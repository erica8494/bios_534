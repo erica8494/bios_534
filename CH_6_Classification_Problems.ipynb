{
 "cells": [
  {
   "cell_type": "markdown",
   "metadata": {},
   "source": [
    "# Classification Problems\n",
    "\n",
    "Steve Pittard wsp@emory.edu (citations to other sources are inline) \n",
    "\n",
    "Next up we consider the issue of building a model to predict a binary (e.g. “yes” / “no” or “positive /”negative“) outcome although we might also predict more than one class. For the sake of explanation we’ll keep our attention to the ”two class\" situation although there are multi-classification possibilities.\n",
    "\n",
    "<img src=\"./pics/flow2.png\" width=700 height=700>\n",
    "\n",
    "## Performance Measures\n",
    "\n",
    "With Linear Regression we were predicting a continuous outcome with the goal of being able to minimize the RMSE (root mean square error). In classification problems we need a metric or “performance measure” that we can use to judge the effectiveness of any model we create. Typically in classification we would be predicting some binary outcome such as whether someone has a disease or not. In this case it would not make sense to use something like RMSE. \n",
    "\n",
    "Other measures such as Accuracy, Precision, or Sensitivity are more appropriate. An example might help - we’ll be spending some time (alot) with the PimaIndiansDiabetes which, as you can guess, relates to Diabetes. From the mighty Wikipedia:\n",
    "\n",
    "> Diabetes mellitus (DM), commonly known as diabetes, is a group of metabolic disorders characterized by high blood sugar levels over a prolonged period. Symptoms of high blood sugar include frequent urination, increased thirst, and increased hunger. If left untreated, diabetes can cause many complications. Acute complications can include diabetic ketoacidosis, hyperosmolar hyperglycemic state, or death. Serious long-term complications include cardiovascular disease, stroke, chronic kidney disease, foot ulcers, and damage to the eyes.\n",
    "\n",
    "Moreover,\n",
    "\n",
    "> As of 2017, an estimated 425 million people had diabetes worldwide (around 5.5%)\n",
    "\n",
    "This dataset has particular historic significance to Predictive Modeling as it was used in the [following paper](https://www.ncbi.nlm.nih.gov/pmc/articles/PMC2245318/pdf/procascamc00018-0276.pdf) from 1988 which described the use of an early neural network model to predict diabetes in Pima Indians.\n",
    "\n",
    "<img src=\"pics/adap.png\" width =\"500\" height=500>\n",
    "\n",
    "The paper outlines the following:\n",
    "\n",
    "> The population for this study was the Pima Indian population near Phoenix, Arizona. That population has been under continuous study since 1965 by the National Institute of Diabetes and Digestive and Kidney Diseases because of its high incidence rate of diabetes. Each community resident over 5 years of age was asked to undergo a standardized examination every two years, which included an oral glucose tolerance test. \n",
    "\n",
    "> Diabetes was diagnosed according to World Health Organization Criteria; that is, if the 2 hour post-load plasma glucose was at least 200 mg/dl (11.1 mmol/l) at any survey examination or if the Indian Health Service Hospital serving the community found a glucose concentration of at least 200 mg/dl during the course of routine medical care."
   ]
  },
  {
   "cell_type": "code",
   "execution_count": 1,
   "metadata": {},
   "outputs": [
    {
     "name": "stdout",
     "output_type": "stream",
     "text": [
      "\n",
      "pm dimensions: (768, 9)\n",
      "<class 'pandas.core.frame.DataFrame'>\n",
      "RangeIndex: 768 entries, 0 to 767\n",
      "Data columns (total 9 columns):\n",
      " #   Column    Non-Null Count  Dtype  \n",
      "---  ------    --------------  -----  \n",
      " 0   pregnant  768 non-null    int64  \n",
      " 1   glucose   768 non-null    int64  \n",
      " 2   pressure  768 non-null    int64  \n",
      " 3   triceps   768 non-null    int64  \n",
      " 4   insulin   768 non-null    int64  \n",
      " 5   mass      768 non-null    float64\n",
      " 6   pedigree  768 non-null    float64\n",
      " 7   age       768 non-null    int64  \n",
      " 8   diabetes  768 non-null    object \n",
      "dtypes: float64(2), int64(6), object(1)\n",
      "memory usage: 54.1+ KB\n"
     ]
    }
   ],
   "source": [
    "import pandas as pd\n",
    "\n",
    "url = \"https://raw.githubusercontent.com/steviep42/bios534_spring_2020/master/data/pima.csv\"\n",
    "pm = pd.read_csv(url, sep=',')\n",
    "\n",
    "# Get the dimensions\n",
    "print(\"\\npm dimensions:\",pm.shape)\n",
    "\n",
    "# See what data we have\n",
    "pm.head()\n",
    "\n",
    "# Get some info\n",
    "pm.info()"
   ]
  },
  {
   "cell_type": "markdown",
   "metadata": {},
   "source": [
    "The description of the data set is as follows:"
   ]
  },
  {
   "cell_type": "markdown",
   "metadata": {},
   "source": [
    "<img src=\"pics/pima_desc.png\" width =\"500\" height=500>"
   ]
  },
  {
   "cell_type": "markdown",
   "metadata": {},
   "source": [
    "So we now have some data on which we can build a model. Specifically, there is a variable in the data called “diabetes” which indicates the disease / diabetes status (“pos” or “neg”) of the person. It would be good to come up with a model that we could use with incoming data to determine if someone has diabetes.\n",
    "\n",
    "## Important Terminology\n",
    "\n",
    "In predictive modeling there are some common terms to consider:"
   ]
  },
  {
   "cell_type": "markdown",
   "metadata": {},
   "source": [
    "<img src=\"pics/features2.png\" width =\"500\" height=500>"
   ]
  },
  {
   "cell_type": "markdown",
   "metadata": {},
   "source": [
    "## A Basic Model\n",
    "\n",
    "Since we are attempting to predict a binary outcome here (“pos” or “neg”) we’ll need to use something other than linear regression which is used to predict numeric outcomes. We’ll go with Logistic Regression as it is a tried and true method for doing this type of thing. We’ll split the data into a train / test pair.\n",
    "\n",
    "<img src=\"pics/orr.png\" width =\"500\" height=500>\n",
    "\n",
    "We'll also want to separate our data into a set of one or more **predictor variables** that we then use to predict the target variable which in this case is the **diabetes** column wherein a value of \"pos\" means that they are positive for diabetes and a value of \"neg\" means that they do not. Fairly strightforward. We will also want to scale the predictor values since if we don't then the logistic regression function will complain. We will talk more about scaling in a later chapter. "
   ]
  },
  {
   "cell_type": "code",
   "execution_count": 2,
   "metadata": {},
   "outputs": [],
   "source": [
    "from sklearn import preprocessing\n",
    "import numpy as np\n",
    "from sklearn.model_selection import train_test_split\n",
    "\n",
    "# Specify the predictor data \n",
    "X = pm.iloc[:,0:8]\n",
    "\n",
    "# Specify the target labels and flatten the array to make it consumable\n",
    "# by scikit-learn functions\n",
    "\n",
    "y = np.ravel(pm.diabetes)\n",
    "\n",
    "# Scale the predictor data\n",
    "X_scaled = preprocessing.scale(X)\n",
    "\n",
    "# Import the train / test module\n",
    "from sklearn.model_selection import train_test_split\n",
    "\n",
    "X_train, X_test, y_train, y_test = train_test_split(X_scaled,y,\n",
    "                                                 test_size=0.20,random_state=0)"
   ]
  },
  {
   "cell_type": "markdown",
   "metadata": {},
   "source": [
    "Check out the data"
   ]
  },
  {
   "cell_type": "code",
   "execution_count": 3,
   "metadata": {},
   "outputs": [
    {
     "name": "stdout",
     "output_type": "stream",
     "text": [
      "\n",
      "Predictor variables:\n",
      " [[ 0.93691372  0.91091809  0.45982725 ...  0.40708356  0.66479969\n",
      "   1.76634642]\n",
      " [ 0.04601433 -0.74783062 -0.47073225 ... -0.48135115 -0.08720986\n",
      "  -0.95646168]\n",
      " [-1.14185152  1.38037527  1.08020025 ...  2.57740266 -0.13553176\n",
      "  -0.87137393]\n",
      " ...\n",
      " [ 0.04601433 -0.84172205 -0.2122435  ... -0.92556851 -0.97814487\n",
      "  -1.04154944]\n",
      " [ 2.12477957 -1.12339636  0.25303625 ... -0.24020459 -0.51908683\n",
      "   0.14967911]\n",
      " [ 0.3429808   0.47275805  0.66661825 ... -4.06047387  0.50775352\n",
      "   3.04266271]]\n",
      "\n",
      "Target variable:\n",
      " ['pos' 'neg' 'neg' 'neg' 'pos' 'pos' 'pos' 'pos' 'neg' 'neg']\n",
      "\n",
      "Train dimensions:\n",
      " (614, 8)\n",
      "\n",
      "Test Dimensions:\n",
      " (154, 8)\n"
     ]
    }
   ],
   "source": [
    "# Notice that X is missing the target column named diabetes\n",
    "print(\"\\nPredictor variables:\\n\",X_train)\n",
    "\n",
    "# Print y\n",
    "print(\"\\nTarget variable:\\n\",y_train[0:10])\n",
    "\n",
    "# Dimensions of Train\n",
    "print(\"\\nTrain dimensions:\\n\",X_train.shape)\n",
    "\n",
    "# Dimensions of Test\n",
    "print(\"\\nTest Dimensions:\\n\",X_test.shape)\n"
   ]
  },
  {
   "cell_type": "code",
   "execution_count": 5,
   "metadata": {},
   "outputs": [
    {
     "name": "stdout",
     "output_type": "stream",
     "text": [
      "\n",
      "First 10 Y training prediction probabilities:\n",
      " [[0.23336627 0.76663373]\n",
      " [0.87304985 0.12695015]\n",
      " [0.31070087 0.68929913]\n",
      " [0.86188224 0.13811776]\n",
      " [0.46326927 0.53673073]\n",
      " [0.03784895 0.96215105]\n",
      " [0.34884765 0.65115235]\n",
      " [0.23091616 0.76908384]\n",
      " [0.9783287  0.0216713 ]]\n",
      "\n",
      "First 10 Y training prediction labels:\n",
      " ['pos' 'neg' 'pos' 'neg' 'pos' 'pos' 'pos' 'pos' 'neg']\n",
      "\n",
      "Training Score:\n",
      " 0.76\n"
     ]
    }
   ],
   "source": [
    "from sklearn.linear_model import LogisticRegression\n",
    "from sklearn.metrics import classification_report, confusion_matrix\n",
    "\n",
    "# Instantiate the model (using the default parameters)\n",
    "logreg = LogisticRegression()\n",
    "\n",
    "# Fit the model with data\n",
    "logreg.fit(X_train,y_train)\n",
    "\n",
    "# Predict y probs on the training data\n",
    "y_train_pred_probs = logreg.predict_proba(X_train)\n",
    "\n",
    "# Predict y labels on the training data\n",
    "y_train_pred_labs = logreg.predict(X_train)\n",
    "\n",
    "# These are the labelled predictions. These are not the probabilities\n",
    "print(\"\\nFirst 10 Y training prediction probabilities:\\n\",y_train_pred_probs[0:9])\n",
    "\n",
    "# These are the labelled predictions. These are not the probabilities\n",
    "print(\"\\nFirst 10 Y training prediction labels:\\n\",y_train_pred_labs[0:9])\n",
    "\n",
    "# Get the Score\n",
    "print(\"\\nTraining Score:\\n\",round(logreg.score(X_train,y_train),2))\n"
   ]
  },
  {
   "cell_type": "markdown",
   "metadata": {},
   "source": [
    "What do we get back from our prediction ? These are probabilities that, for each row in the training data frame, represent the likelihood of that person being positive for diabetes. The trick then is to figure out the threshold value (aka “alpha value”) over which we would classify the person as being positive for diabetes. \n",
    "\n",
    "Most people will generally pick 0.5 although the returned logistic object allows us to request either the probabilities that something is, in this case, negative or positive according to that threshold. The default **predict** function gives us labels whereas **predict_proba** gives us probabilities. In the latter case, we can compare which column is greater and make a decision based on that. We could also focus on the second column to make the decision."
   ]
  },
  {
   "cell_type": "code",
   "execution_count": 6,
   "metadata": {},
   "outputs": [
    {
     "name": "stdout",
     "output_type": "stream",
     "text": [
      "['pos' 'neg' 'pos' 'neg' 'pos' 'pos' 'pos' 'pos' 'neg']\n"
     ]
    }
   ],
   "source": [
    "my_labs = np.where(y_train_pred_probs[:,1] < 0.5,\"neg\",\"pos\")\n",
    "print(my_labs[0:9])"
   ]
  },
  {
   "cell_type": "markdown",
   "metadata": {},
   "source": [
    "For now, we'll stick with what we get back from the predict method but we will return to the idea of seeing how varying the threshold might (or not) result in greater accuracy for the model."
   ]
  },
  {
   "cell_type": "code",
   "execution_count": 7,
   "metadata": {},
   "outputs": [
    {
     "data": {
      "text/html": [
       "<div>\n",
       "<style scoped>\n",
       "    .dataframe tbody tr th:only-of-type {\n",
       "        vertical-align: middle;\n",
       "    }\n",
       "\n",
       "    .dataframe tbody tr th {\n",
       "        vertical-align: top;\n",
       "    }\n",
       "\n",
       "    .dataframe thead th {\n",
       "        text-align: right;\n",
       "    }\n",
       "</style>\n",
       "<table border=\"1\" class=\"dataframe\">\n",
       "  <thead>\n",
       "    <tr style=\"text-align: right;\">\n",
       "      <th>Predicted</th>\n",
       "      <th>neg</th>\n",
       "      <th>pos</th>\n",
       "    </tr>\n",
       "    <tr>\n",
       "      <th>Actual</th>\n",
       "      <th></th>\n",
       "      <th></th>\n",
       "    </tr>\n",
       "  </thead>\n",
       "  <tbody>\n",
       "    <tr>\n",
       "      <th>neg</th>\n",
       "      <td>341</td>\n",
       "      <td>52</td>\n",
       "    </tr>\n",
       "    <tr>\n",
       "      <th>pos</th>\n",
       "      <td>94</td>\n",
       "      <td>127</td>\n",
       "    </tr>\n",
       "  </tbody>\n",
       "</table>\n",
       "</div>"
      ],
      "text/plain": [
       "Predicted  neg  pos\n",
       "Actual             \n",
       "neg        341   52\n",
       "pos         94  127"
      ]
     },
     "execution_count": 7,
     "metadata": {},
     "output_type": "execute_result"
    }
   ],
   "source": [
    "compare_preds_training = pd.DataFrame({'predicted':y_train_pred_labs.tolist(),\n",
    "                                       'actual_labs':y_train})\n",
    "# Use crosstabs\n",
    "confusion_matrix_train = pd.crosstab(compare_preds_training['actual_labs'], \n",
    "                                     compare_preds_training['predicted'], \n",
    "                                     rownames=['Actual'], colnames=['Predicted'])\n",
    "# Check out the table / matrix\n",
    "confusion_matrix_train"
   ]
  },
  {
   "cell_type": "code",
   "execution_count": 8,
   "metadata": {},
   "outputs": [
    {
     "name": "stdout",
     "output_type": "stream",
     "text": [
      "Train Accuracy: 0.76\n"
     ]
    }
   ],
   "source": [
    "print(\"Train Accuracy:\",round(confusion_matrix_train.values.diagonal().sum() / confusion_matrix_train.values.sum(),2))"
   ]
  },
  {
   "cell_type": "markdown",
   "metadata": {},
   "source": [
    "## Predictions on Test Data\n",
    "\n",
    "Next, let's do some predictions on the test data"
   ]
  },
  {
   "cell_type": "code",
   "execution_count": 9,
   "metadata": {},
   "outputs": [
    {
     "name": "stdout",
     "output_type": "stream",
     "text": [
      "Predicted  neg  pos\n",
      "Actual             \n",
      "neg         98    9\n",
      "pos         18   29\n"
     ]
    }
   ],
   "source": [
    "# Predict y labels on the training data\n",
    "y_test_pred_labs =  logreg.predict(X_test)\n",
    "\n",
    "# Get the probabilities\n",
    "y_test_pred_probs = logreg.predict_proba(X_test)\n",
    "\n",
    "# Use the threshold of 0.5 (we could use something else if we wanted to)\n",
    "my_labs = np.where(y_test_pred_probs[:,1] < 0.5,\"neg\",\"pos\")\n",
    "\n",
    "compare_preds_test = pd.DataFrame({'predicted':my_labs.tolist(),\n",
    "                                       'actual_labs':y_test})\n",
    "# Use crosstabs\n",
    "confusion_matrix_test_05 = pd.crosstab(compare_preds_test['actual_labs'], \n",
    "                                     compare_preds_test['predicted'], \n",
    "                                     rownames=['Actual'], colnames=['Predicted'])\n",
    "# Check out the table / matrix\n",
    "print(confusion_matrix_test_05)\n",
    "\n",
    "#tn, fp, fn, tp = confusion_matrix(y_test,logreg.predict(X_test)).ravel()\n",
    "#print(confusion_matrix(y_test,logreg.predict(X_test)))"
   ]
  },
  {
   "cell_type": "code",
   "execution_count": 10,
   "metadata": {},
   "outputs": [
    {
     "name": "stdout",
     "output_type": "stream",
     "text": [
      "Test Accuracy: 0.82\n",
      "Test Score: 0.82\n"
     ]
    }
   ],
   "source": [
    "print(\"Test Accuracy:\",round(confusion_matrix_test_05.values.diagonal().sum() \n",
    "                             / confusion_matrix_test_05.values.sum(),2))\n",
    "\n",
    "# And this should match the output of the score method\n",
    "\n",
    "print(\"Test Score:\",round(logreg.score(X_test,y_test),2))\n"
   ]
  },
  {
   "cell_type": "markdown",
   "metadata": {},
   "source": [
    "Is this okay ? Well, maybe. We could perhaps look at a cross-fold validation run but let's hold off on that for now. To better address the question of whether setting the threshold at 0.5 is the best thing to do we need to back up a bit and recall that we are dealing with a curve like the one below which is a sigmoid function. The idea is to take our probabilities, which range between 0 and 1, and then pick a threshold over which we would classify that person as being positive for diabetes.\n",
    "\n",
    "<img src=\"pics/logitplot-1.png\" width =\"600\" height=600>"
   ]
  },
  {
   "cell_type": "markdown",
   "metadata": {},
   "source": [
    "## Selecting The Correct Threshold / Alpha\n",
    "\n",
    "The temptation is to select 0.5 as the threshold such that if a returned probability exceeds 0.5 then we classify the associated subject as being “positive” for the disease. But then this assumes that the probabilities are distributed perfectly. Here is another view of the situation.\n",
    "\n",
    "<img src=\"pics/pc.png\" width =\"650\" height=650>\n",
    "\n",
    "The above represents a perfect classifier wherein we can cleanly distinguish between True Positives and Negatives. Note that, the cutoff point is at 0.5 which represents an ideal case. However, in most situations, what we have is something like this:\n",
    "\n",
    "<img src=\"pics/tnfp.png\" width =\"700\" height=700>\n",
    "\n",
    "\n",
    "### Moving The Threshold\n",
    "\n",
    "What happens if we move our threshold towards 0 ? We would definitely get more of the actual positive cases. What if we moved it to say 0.1 ? We would probably get ALL of the True Positives at the expense of getting a lot of False Positives.\n",
    "\n",
    "What happens if we move our threshold towards 1 ? We would definitely get more of the actual negative cases. What if we moved it to say 0.9 ? We would probably get ALL of the True Negatives at the expense of getting a lot of False Negatives.\n",
    "\n",
    "### Distribution of Predicted Probabilities\n",
    "\n",
    "We might first wish to look at the distribution of the returned probabilities before making a decision about where to set the threshold. You should now be able to clearly that simply selecting 0.5 in a general case might not be the best approach."
   ]
  },
  {
   "cell_type": "code",
   "execution_count": 11,
   "metadata": {},
   "outputs": [
    {
     "data": {
      "image/png": "[encoded data removed]",
      "text/plain": [
       "<Figure size 600x400 with 1 Axes>"
      ]
     },
     "metadata": {},
     "output_type": "display_data"
    }
   ],
   "source": [
    "import matplotlib.pyplot as plt\n",
    "fig = plt.figure(figsize =(6, 4)) \n",
    "  \n",
    "# Creating plot \n",
    "plt.boxplot(y_test_pred_probs[:,1]) \n",
    "plt.title(\"Logistic Regression Test Probabilities\")\n",
    "plt.grid()\n",
    "# show plot \n",
    "plt.show() \n",
    "\n",
    "# The median is somewhere around .25 so we could use that for now \n",
    "# although we are just guessing."
   ]
  },
  {
   "cell_type": "markdown",
   "metadata": {},
   "source": [
    "Does setting the threshold around .25 produce better accuracy ?"
   ]
  },
  {
   "cell_type": "code",
   "execution_count": 12,
   "metadata": {},
   "outputs": [
    {
     "data": {
      "text/html": [
       "<div>\n",
       "<style scoped>\n",
       "    .dataframe tbody tr th:only-of-type {\n",
       "        vertical-align: middle;\n",
       "    }\n",
       "\n",
       "    .dataframe tbody tr th {\n",
       "        vertical-align: top;\n",
       "    }\n",
       "\n",
       "    .dataframe thead th {\n",
       "        text-align: right;\n",
       "    }\n",
       "</style>\n",
       "<table border=\"1\" class=\"dataframe\">\n",
       "  <thead>\n",
       "    <tr style=\"text-align: right;\">\n",
       "      <th>Predicted</th>\n",
       "      <th>neg</th>\n",
       "      <th>pos</th>\n",
       "    </tr>\n",
       "    <tr>\n",
       "      <th>Actual</th>\n",
       "      <th></th>\n",
       "      <th></th>\n",
       "    </tr>\n",
       "  </thead>\n",
       "  <tbody>\n",
       "    <tr>\n",
       "      <th>neg</th>\n",
       "      <td>67</td>\n",
       "      <td>40</td>\n",
       "    </tr>\n",
       "    <tr>\n",
       "      <th>pos</th>\n",
       "      <td>4</td>\n",
       "      <td>43</td>\n",
       "    </tr>\n",
       "  </tbody>\n",
       "</table>\n",
       "</div>"
      ],
      "text/plain": [
       "Predicted  neg  pos\n",
       "Actual             \n",
       "neg         67   40\n",
       "pos          4   43"
      ]
     },
     "execution_count": 12,
     "metadata": {},
     "output_type": "execute_result"
    }
   ],
   "source": [
    "# Predict y labels on the test data\n",
    "#y_test_pred_labs =  logreg.predict(X_test)\n",
    "y_test_pred_probs = logreg.predict_proba(X_test)\n",
    "\n",
    "# Use a threshold of 0.25\n",
    "my_labs = np.where(y_test_pred_probs[:,1] < 0.25,\"neg\",\"pos\")\n",
    "\n",
    "compare_preds_test = pd.DataFrame({'predicted':my_labs.tolist(),\n",
    "                                   'actual_labs':y_test})\n",
    "# Use crosstabs\n",
    "confusion_matrix_test_025 = pd.crosstab(compare_preds_test['actual_labs'], \n",
    "                                    compare_preds_test['predicted'], \n",
    "                                    rownames=['Actual'], \n",
    "                                    colnames=['Predicted'])\n",
    "# Check out the matrix\n",
    "confusion_matrix_test_025"
   ]
  },
  {
   "cell_type": "code",
   "execution_count": 90,
   "metadata": {},
   "outputs": [
    {
     "name": "stdout",
     "output_type": "stream",
     "text": [
      "Test Accuracy: 0.71\n"
     ]
    }
   ],
   "source": [
    "print(\"Test Accuracy:\",round(confusion_matrix_test_025.values.diagonal().sum() / \n",
    "                             confusion_matrix_test_025.values.sum(),2))"
   ]
  },
  {
   "cell_type": "markdown",
   "metadata": {},
   "source": [
    "## Hypothesis Testing\n",
    "\n",
    "Now, before we dig into the details our classifier, remember that most things in statistics and classification revolves around the idea of a hypothesis. In this case, the “null” hypothesis is that a patient does NOT have the disease whereas the alternative hypothesis is that they do. Well, for a statistician that’s a bit strong. Let’s just say that if there is enough evidence to reject the null hypothesis then we will.\n",
    "\n",
    "Anyway, the larger idea is that we might apply our test to someone and subsequently determine, by mistake, that they have a disease when in fact they don’t.\n",
    "\n",
    "- This would be an example of a \"false positive\" also known as a \"Type I Error\".  \n",
    "\n",
    "It is also possible that we apply the test to someone and we say that the do not have the disease when they actually do.\n",
    "\n",
    "- This is known as a \"false negative\" also known as a Type II Error\" \n",
    "\n",
    "Here we fail to reject the null hypothesis for this person. A perfect test would have zero false positives and zero false negatives.\n",
    "\n",
    "<img src=\"pics/type2and1.png\" width =\"650\" height=650>\n",
    "\n",
    "## Confusion Matrix\n",
    "\n",
    "So now we have our predictions in terms of actual labels that we could then use to compare to the actual labels that are stored in the “diabetes” column of the test data frame. This table provides the basis for computing a number of performance measures such as accuracy, precision, sensitivity, specificity and others. In predictive modeling we are always interested in how well any given model will perform on “new” data. You will hear the term \"Confusion Matrix\" or \"Matrix of Confusion\" when discussing classification problems. "
   ]
  },
  {
   "cell_type": "code",
   "execution_count": 14,
   "metadata": {},
   "outputs": [
    {
     "data": {
      "text/html": [
       "<div>\n",
       "<style scoped>\n",
       "    .dataframe tbody tr th:only-of-type {\n",
       "        vertical-align: middle;\n",
       "    }\n",
       "\n",
       "    .dataframe tbody tr th {\n",
       "        vertical-align: top;\n",
       "    }\n",
       "\n",
       "    .dataframe thead th {\n",
       "        text-align: right;\n",
       "    }\n",
       "</style>\n",
       "<table border=\"1\" class=\"dataframe\">\n",
       "  <thead>\n",
       "    <tr style=\"text-align: right;\">\n",
       "      <th>Predicted</th>\n",
       "      <th>neg</th>\n",
       "      <th>pos</th>\n",
       "    </tr>\n",
       "    <tr>\n",
       "      <th>Actual</th>\n",
       "      <th></th>\n",
       "      <th></th>\n",
       "    </tr>\n",
       "  </thead>\n",
       "  <tbody>\n",
       "    <tr>\n",
       "      <th>neg</th>\n",
       "      <td>98</td>\n",
       "      <td>9</td>\n",
       "    </tr>\n",
       "    <tr>\n",
       "      <th>pos</th>\n",
       "      <td>18</td>\n",
       "      <td>29</td>\n",
       "    </tr>\n",
       "  </tbody>\n",
       "</table>\n",
       "</div>"
      ],
      "text/plain": [
       "Predicted  neg  pos\n",
       "Actual             \n",
       "neg         98    9\n",
       "pos         18   29"
      ]
     },
     "execution_count": 14,
     "metadata": {},
     "output_type": "execute_result"
    }
   ],
   "source": [
    "confusion_matrix_test_05"
   ]
  },
  {
   "cell_type": "markdown",
   "metadata": {},
   "source": [
    "Let’s break this down since it is really important to know how to use this construct. First, we notice that there are N = 154 people in this study. Note that scikit-learn has a function that will create a confusion matrix for us but if we started with this, we wouldn't learn a larger lession. If we go back to the original test prediction which used 0.5 as a threshold, we would have the following matrix."
   ]
  },
  {
   "cell_type": "code",
   "execution_count": 23,
   "metadata": {},
   "outputs": [
    {
     "name": "stdout",
     "output_type": "stream",
     "text": [
      "TN:  98  FN: 18\n",
      "FP:  9   TP: 29\n"
     ]
    }
   ],
   "source": [
    "from sklearn.metrics import classification_report, confusion_matrix\n",
    "conf_mat_test = confusion_matrix(y_test, logreg.predict(X_test))\n",
    "#print(conf_mat_test)\n",
    "tn, fp, fn, tp = conf_mat_test.ravel()\n",
    "confusion_matrix_test_05\n",
    "\n",
    "tn, fp, fn, tp = confusion_matrix_test_05.values.ravel()\n",
    "print(\"TN: \",tn,\" FN:\",fn)\n",
    "print(\"FP: \",fp,\"  TP:\",tp)"
   ]
  },
  {
   "cell_type": "markdown",
   "metadata": {},
   "source": [
    "<img src=\"pics/big_mat.png\" width =\"650\" height=650>\n",
    "\n",
    "*True Positives* - With respect to the second row - we predicted that 29 people have the disease that actually do have it. You could then say that the number of TRUE POSITIVES (abbreviated as “TP”) is 29.\n",
    "\n",
    "*False Positives* - We also predicted that 9  people have the condition when they in fact do not. We could then say that the number of FALSE POSITIVES, abbreviated as “FP”, is 9.\n",
    "\n",
    "*False Negatives* - In the first row we predicted that 18 people do NOT have the disease/condition when they actually do. So you could say that the number of FALSE NEGATIVES (abbreviated as FN) is 18.\n",
    "\n",
    "*True Negatives* - We also predicted that 98 people do not have the condition and they do not. So then the number of TRUE NEGATIVES (abbreviated as TN) is also 98.\n",
    "\n",
    "## Computing Performance Metrics\n",
    "\n",
    "Now comes the fun part in that you might be concerned with specific metrics to assess the quality of your model in specific terms. Since our model, such as it is, seems to relate to the quality of a medical diagnostic we might be concerned with its accuracy, precision, and sensitivity.\n",
    "\n",
    "The first two terms in particular are frequently used synonymously when they are not the same thing. Below is a graphic from Wikipedia which presents many (if not all) of the metrics that can be computed against a confusion matrix.\n",
    "\n",
    "<img src=\"pics/cmwiki.png\" width =\"700\" height=700>\n",
    "\n",
    "We’ll focus on some specific metrics as they will assist our understanding of how to assess a model. Here is what the current test confusion matrix looks like - the one based on a threshold of 0.5\n",
    "\n",
    "<img src=\"pics/python_orient.png\" width =\"700\" height=700>\n"
   ]
  },
  {
   "cell_type": "markdown",
   "metadata": {},
   "source": [
    "### Accuracy\n",
    "\n",
    "So let’s take the number of observed True Positives and True Negatives, add them together, and divide them by the total number of patients in the study group to arrive at what is known as the Accuracy of our model. Another way to think of the denominator is as the sum of all observed results, True and False.\n",
    "\n",
    "Accuracy = (TP + TN) / (TP + TN + FP + FN) = (98 + 29)/154 = 0.82"
   ]
  },
  {
   "cell_type": "code",
   "execution_count": 16,
   "metadata": {},
   "outputs": [
    {
     "data": {
      "text/plain": [
       "0.82"
      ]
     },
     "execution_count": 16,
     "metadata": {},
     "output_type": "execute_result"
    }
   ],
   "source": [
    "round((tp+tn)/(tp+tn+fp+fn),2)"
   ]
  },
  {
   "cell_type": "markdown",
   "metadata": {},
   "source": [
    "### Sensitivity\n",
    "\n",
    "Sensitivity, also known as the True Positive rate, tells us how frequently we find a positive case given that it is actually positive. It is the number of True Positives (TP) divided by the sum of True Positives and False Negatives (which are actually Positives). This\n",
    "\n",
    "Sensitivity = TP / (TP + FN) = 29 / (29 + 18) = 0.62\n",
    "\n",
    "Sensitivity also has the synonyms of “recall” and “hit rate” which might be referenced depending on your domain on interest."
   ]
  },
  {
   "cell_type": "code",
   "execution_count": 54,
   "metadata": {},
   "outputs": [
    {
     "data": {
      "text/plain": [
       "0.62"
      ]
     },
     "execution_count": 54,
     "metadata": {},
     "output_type": "execute_result"
    }
   ],
   "source": [
    "round(tp/(tp+fn),2)"
   ]
  },
  {
   "cell_type": "markdown",
   "metadata": {},
   "source": [
    "### False Positive Rate\n",
    "\n",
    "Just as there is the True Positive Rate there is a False Positive Rate. This tells us how likely it is we will falsely reject the null hypothesis which is a Type I error.\n",
    "\n",
    "False Positive Rate = FP / (FP + TN) = 9 / (9 + 98 ) = .08"
   ]
  },
  {
   "cell_type": "code",
   "execution_count": 55,
   "metadata": {},
   "outputs": [
    {
     "data": {
      "text/plain": [
       "0.08"
      ]
     },
     "execution_count": 55,
     "metadata": {},
     "output_type": "execute_result"
    }
   ],
   "source": [
    "round(fp/(fp+tn),2)"
   ]
  },
  {
   "cell_type": "markdown",
   "metadata": {},
   "source": [
    "### Specificity\n",
    "\n",
    "Specificity tells us how frequently we find a negative case given that it is actually negative. This is also known as the “True Negative Rate”\n",
    "\n",
    "Specificity = TN / (TN + FP) = 98 / (98 + 9) = 0.92"
   ]
  },
  {
   "cell_type": "code",
   "execution_count": 56,
   "metadata": {},
   "outputs": [
    {
     "data": {
      "text/plain": [
       "0.92"
      ]
     },
     "execution_count": 56,
     "metadata": {},
     "output_type": "execute_result"
    }
   ],
   "source": [
    "round(tn/(tn+fp),2)"
   ]
  },
  {
   "cell_type": "markdown",
   "metadata": {},
   "source": [
    "### Precision\n",
    "\n",
    "How precise is the model ? Precision is a measure of the ability of a classification model to identify only the relevant data points. This is also known as Positive Predictive Value. We take the number of True Positives (TP) and divide that by the sum of True Positives (TP) and False Positives (FP). The denominator is the sum of row 2 in our matrix.\n",
    "\n",
    "It is helpful to know that Precision is also known as the PPV “Positive Predictive Value” since it is concerned with the ratio of True Positives over the sum of all Positive related quantities including the False Positives. The larger the number of FP then the smaller the ratio which results in a lower precision.\n",
    "\n",
    "Precision = TP / (TP + FP) = 29 / (29 + 9) = 0.76"
   ]
  },
  {
   "cell_type": "code",
   "execution_count": 57,
   "metadata": {},
   "outputs": [
    {
     "data": {
      "text/plain": [
       "0.76"
      ]
     },
     "execution_count": 57,
     "metadata": {},
     "output_type": "execute_result"
    }
   ],
   "source": [
    "round(tp/(tp+fp),2)"
   ]
  },
  {
   "cell_type": "markdown",
   "metadata": {},
   "source": [
    "\n",
    "## Picking the Right Metric\n",
    "\n",
    "There are more ratios we could compute some of which might be more relevant to our classification issue. In reality, picking the “right” metric is a function of your domain of study. Frequently, the sensitivity and specificity are used in medical testing scenarios as is the false positive rate. But you should search the literature in your area of interest to determine what is commonly used. We could say much more about these metrics but we’ll keep it simple for now.\n",
    "\n",
    "For now, we’ll use both the True Positive Rate and the False Positive Rate.\n",
    "\n",
    "## Wait. Where Are We ?\n",
    "\n",
    "We’ve been doing a lot. We did the following:\n",
    "\n",
    "1. Built a model against the training data\n",
    "2. Used the model to make a prediction against the test data\n",
    "3. Took the probabilities from Step #2 and\n",
    "4. Selected a threshold / alpha value (e.g. .3) and\n",
    "5. Decided that probabilities over that threshold would be “pos”\n",
    "6. Created a table of outcomes (confusion matrix) to compare predictions vs reality\n",
    "7. Computed some important ratios\n",
    "\n",
    "While this process was useful the resulting confusion matrix corresponded to just ONE particular threshold ? What if we had picked another value ? We would then get a different confusion matrix as well as different performance measures.\n",
    "\n",
    "    In effect we would have to repeat steps 4-7 all over again for each threshold !!!\n",
    "\n",
    "Let’s find a way to generalize these steps. First, let’s create a function that allows us to compute the True Positive Rate (aka “Sensitivity”) and the False Positive Rate ( 1 - Specificity). If we apply it to our predictions from our example in progress, the output would be as follows."
   ]
  },
  {
   "cell_type": "code",
   "execution_count": 24,
   "metadata": {},
   "outputs": [
    {
     "data": {
      "text/plain": [
       "[0.3, 0.87, 0.32]"
      ]
     },
     "execution_count": 24,
     "metadata": {},
     "output_type": "execute_result"
    }
   ],
   "source": [
    "def get_tprfpr(thresh,probs,true):\n",
    "    \n",
    "    # Generate labels based on the threshold\n",
    "    my_labs = np.where(y_test_pred_probs[:,1] < thresh,\"neg\",\"pos\")\n",
    "\n",
    "    compare_preds_test = pd.DataFrame({'predicted':my_labs,\n",
    "                                       'actual_labs':true})\n",
    "    # Use crosstabs\n",
    "    cmt = pd.crosstab(compare_preds_test['actual_labs'], \n",
    "                                    compare_preds_test['predicted'], \n",
    "                                    rownames=['Actual'], \n",
    "                                    colnames=['Predicted'])\n",
    "    # get tpr and fpr\n",
    "    tpr = cmt.iloc[1,1]/(cmt.iloc[1,1]+cmt.iloc[1,0])\n",
    "    fpr = cmt.iloc[0,1]/(cmt.iloc[0,1]+cmt.iloc[0,0])\n",
    "    \n",
    "    return([round(thresh,2),round(tpr,2),round(fpr,2)])\n",
    "\n",
    "# Predict y labels on the test data\n",
    "\n",
    "y_test_pred_probs =  logreg.predict_proba(X_test)\n",
    "\n",
    "# Call the function to get back threshold, tpr, and fpr\n",
    "get_tprfpr(.3,y_test_pred_probs,y_test)"
   ]
  },
  {
   "cell_type": "markdown",
   "metadata": {},
   "source": [
    "## ROC Curve\n",
    "\n",
    "Next, we'll use this function to evaluate a number of thresholds to see what the resulting True Postive and False Positive Rates are. We can then use this information to create a ROC Curve which is a popular diagnostic graph for picking the optimal threshold for use with the prediction of labels. Again, most people will accept whatever default threshold the predict method uses which is almost always 0.5. But this isn't set in stone which is why things like ROC curves exist. "
   ]
  },
  {
   "cell_type": "code",
   "execution_count": 25,
   "metadata": {},
   "outputs": [
    {
     "data": {
      "image/png": "[encoded data removed]",
      "text/plain": [
       "<Figure size 640x480 with 1 Axes>"
      ]
     },
     "metadata": {},
     "output_type": "display_data"
    }
   ],
   "source": [
    "thresholds = np.arange(.1,1,.05)\n",
    "probs =  logreg.predict_proba(X_test)\n",
    "df = []\n",
    "\n",
    "for i in thresholds:\n",
    "    df.append(get_tprfpr(i,probs,y_test))\n",
    "\n",
    "roc_stuff = pd.DataFrame(df,columns=['threshold','tpr','fpr'])\n",
    "roc_stuff.plot(x ='fpr', y='tpr', kind = 'scatter')\n",
    "plt.plot(roc_stuff.fpr, roc_stuff.tpr)\n",
    "plt.grid()\n",
    "plt.title(\"Steve's Super Cool ROC Cruve\")\n",
    "\n",
    "# zip joins x and y coordinates in pairs\n",
    "ii = 0\n",
    "for x,y in zip(roc_stuff.fpr, roc_stuff.tpr):\n",
    "\n",
    "    label = \"{:.2f}\".format(roc_stuff.threshold[ii])\n",
    "\n",
    "    plt.annotate(label, # this is the text\n",
    "                 (x,y), # this is the point to label\n",
    "                 textcoords=\"offset points\", # how to position the text\n",
    "                 xytext=(0,10), # distance from text to points (x,y)\n",
    "                 ha='center') # horizontal alignment can be left, right or center\n",
    "    ii = ii + 1\n",
    "\n",
    "plt.plot([0, .9], [0, 1], color = 'black', linewidth = 1, linestyle=\"dotted\")\n",
    "plt.show()"
   ]
  },
  {
   "cell_type": "markdown",
   "metadata": {},
   "source": [
    "It turns out that area under an ROC curve is a measure of the usefulness of a test in general, where a greater area (with respect to TPR and FPR) means a more useful test. Ideally we would want the area under the curve (also known as “AUC”) to be as close to 1 as possible. The dashed line above represents a classifier that basically “guesses” the outcome (pos vs neg) using a “coin flip” mentality. So, this seems like a lot of work on our part and it is. We could leverage the power of scikit-learn to give us some help.\n",
    "\n",
    "In case you are wondering, there is a command in R which will make the curve for you. We need to use the prediction PROBABILITES as part of the call to the **plot_roc_curve** function. We also pass in the actual labels for comparison."
   ]
  },
  {
   "cell_type": "code",
   "execution_count": 33,
   "metadata": {},
   "outputs": [
    {
     "name": "stdout",
     "output_type": "stream",
     "text": [
      "AUC is: 0.87\n"
     ]
    },
    {
     "data": {
      "text/plain": [
       "[<matplotlib.lines.Line2D at 0x167895f30>]"
      ]
     },
     "execution_count": 33,
     "metadata": {},
     "output_type": "execute_result"
    },
    {
     "data": {
      "image/png": "[encoded data removed]",
      "text/plain": [
       "<Figure size 640x480 with 1 Axes>"
      ]
     },
     "metadata": {},
     "output_type": "display_data"
    }
   ],
   "source": [
    "from sklearn import metrics\n",
    " \n",
    "# Plot the ROC Curve\n",
    "#metrics.plot_roc_curve(logreg, X_test, y_test)\n",
    "metrics.RocCurveDisplay.from_estimator(logreg, X_test, y_test)\n",
    "\n",
    "# If you want you can get the supporting data\n",
    "tpr, fpr, thresholds = metrics.roc_curve(y_test,logreg.predict_proba(X_test)[:,1],\n",
    "                                         pos_label=\"pos\")\n",
    "print(\"AUC is:\",round(metrics.roc_auc_score(y_test,logreg.predict_proba(X_test)[:,1]),2))\n",
    "\n",
    "plt.grid()\n",
    "plt.plot([0, 1], [0, 1], color = 'black', linewidth = 1, linestyle=\"dotted\")"
   ]
  },
  {
   "cell_type": "markdown",
   "metadata": {},
   "source": [
    "Here are some more examples of general curves including one that is “perfect”. B and C are okay where as D represents mere guessing.\n",
    "\n",
    "<img src=\"pics/multirocs.png\" width =\"600\" height=600>\n",
    "\n",
    "Here is another view of the ROC Curve\n",
    "\n",
    "<img src=\"pics/croc.png\" width =\"600\" height=600>\n"
   ]
  },
  {
   "cell_type": "markdown",
   "metadata": {},
   "source": [
    "So, our classifier does better than that but certainly not perfectly. Now, we also care about the threshold that gives us a good balance between the TPR and FPR. I mean if we wanted a max AUC with no other concerns, we would also be accepting a very high FPR. So this is why looking at the curve is useful. In looking at the ROC Curve it seems like the threshold which yields the largest AUC is around .35 or .38. We could use that to generate a confusion matrix to see what type of accurcay that yields."
   ]
  },
  {
   "cell_type": "code",
   "execution_count": 34,
   "metadata": {},
   "outputs": [
    {
     "name": "stdout",
     "output_type": "stream",
     "text": [
      "Accuracy is: 0.79\n"
     ]
    }
   ],
   "source": [
    "y_test_pred_probs = logreg.predict_proba(X_test)\n",
    "\n",
    "# Use a threshold of 0.38\n",
    "my_labs = np.where(y_test_pred_probs[:,1] < 0.4,\"neg\",\"pos\")\n",
    "\n",
    "compare_preds_test = pd.DataFrame({'predicted':my_labs.tolist(),\n",
    "                                   'actual_labs':y_test})\n",
    "# Use crosstabs\n",
    "confusion_matrix_test_038 = pd.crosstab(compare_preds_test['actual_labs'], \n",
    "                                    compare_preds_test['predicted'], \n",
    "                                    rownames=['Actual'], \n",
    "                                    colnames=['Predicted'])\n",
    "# Check out the matrix\n",
    "confusion_matrix_test_038\n",
    "print(\"Accuracy is:\",round(confusion_matrix_test_038.values.diagonal().sum()/confusion_matrix_test_038.values.sum(),2))"
   ]
  },
  {
   "cell_type": "markdown",
   "metadata": {},
   "source": [
    "## ROC Curve Summary\n",
    "\n",
    "The above can be confusing although what you will soon discover is that being able to compute the AUC (Area Under Curve) will be sufficient to judge the quality of a model - well in general it’s a good start. \n",
    "\n",
    "You might want to put up a ROC curve based on some predictions in which case you would still need to use one of the above functions. If you just want to see a basic ROC Curve then take this approach which will give you both the AUC and a ROC Curve albeit it much less “pretty” than the one above. \n",
    "\n",
    "## Let's Try This Again\n",
    "\n",
    "Let's try this again using as much of the scikit-learn conveniences that we can.\n"
   ]
  },
  {
   "cell_type": "code",
   "execution_count": 44,
   "metadata": {},
   "outputs": [
    {
     "name": "stdout",
     "output_type": "stream",
     "text": [
      "recall:  0.6170212765957447\n",
      "              precision    recall  f1-score   support\n",
      "\n",
      "         neg       0.84      0.92      0.88       107\n",
      "         pos       0.76      0.62      0.68        47\n",
      "\n",
      "    accuracy                           0.82       154\n",
      "   macro avg       0.80      0.77      0.78       154\n",
      "weighted avg       0.82      0.82      0.82       154\n",
      "\n"
     ]
    },
    {
     "data": {
      "image/png": "[encoded data removed]",
      "text/plain": [
       "<Figure size 640x480 with 1 Axes>"
      ]
     },
     "metadata": {},
     "output_type": "display_data"
    }
   ],
   "source": [
    "from sklearn.linear_model import LogisticRegression\n",
    "from sklearn.metrics import classification_report, recall_score, confusion_matrix, accuracy_score\n",
    "from sklearn.model_selection import train_test_split\n",
    "\n",
    "### Get The Data Organized\n",
    "\n",
    "# Specify the predictor data \n",
    "X = pm.iloc[:,0:8]\n",
    "\n",
    "# Specify the target labels and flatten the array to make it consumable\n",
    "# by scikit-learn functions\n",
    "\n",
    "y = np.ravel(pm.diabetes)\n",
    "\n",
    "# Scale the predictor data\n",
    "X_scaled = preprocessing.scale(X)\n",
    "\n",
    "# Create the train / test module\n",
    "X_train,X_test,y_train,y_test = train_test_split(X_scaled,y,\n",
    "                                                 test_size=0.20,random_state=0)\n",
    "\n",
    "###  Now Do Some Modeling\n",
    "\n",
    "# Instantiate the model (using the default parameters)\n",
    "logreg = LogisticRegression()\n",
    "\n",
    "# Fit the model with data\n",
    "logreg.fit(X_train,y_train)\n",
    "\n",
    "# Predict y labels on the training data - assumes a threshold of 0.5\n",
    "y_test_pred_labs =  logreg.predict(X_test)\n",
    "\n",
    "# Get the probabilities\n",
    "y_test_pred_probs = logreg.predict_proba(X_test)\n",
    "\n",
    "### Print Out Some Diagnostic Information\n",
    "\n",
    "print(\"recall: \", recall_score(y_test,logreg.predict(X_test),pos_label=\"pos\"))\n",
    "\n",
    "#tn, fp, fn, tp  = confusion_matrix(y_test,y_test_pred_labs,labels=['neg','pos']).ravel()\n",
    "\n",
    "# Get the Classification Report\n",
    "print(classification_report(y_test,y_test_pred_labs))\n",
    "\n",
    "# Check Out the ROC Curve\n",
    "#metrics.plot_roc_curve(logreg, X_test, y_test, name=\"ROC\")\n",
    "metrics.RocCurveDisplay.from_estimator(logreg, X_test, y_test, name=\"Logistic Regression\")\n",
    "plt.title(\"ROC Curve\")\n",
    "plt.grid()"
   ]
  },
  {
   "cell_type": "markdown",
   "metadata": {},
   "source": [
    "## K-Fold Validation\n",
    "\n",
    "Just as with regression we can do K-Fold Validation on one ore more performance measures such as accuracy, sensitivity, precision, etc. We did this before when considering linear regression. There is a very direct and easy way to do this - so easy in fact that if we do it then we can't really appreciate what is happening under the hood. As before, we'll use the **KFold** function to create folds from the original data. We'll then use the **accuracy_score** function assess the accuracy of the folds in a way that uses K-1 of the folds as training data and the holdout fold as a test fold. Then we collect the accuracies for each iteration and present an average at the end of the loop."
   ]
  },
  {
   "cell_type": "code",
   "execution_count": 38,
   "metadata": {},
   "outputs": [
    {
     "name": "stdout",
     "output_type": "stream",
     "text": [
      "Accuracy for fold 0 is 0.82\n",
      "Accuracy for fold 1 is 0.79\n",
      "Accuracy for fold 2 is 0.75\n",
      "Accuracy for fold 3 is 0.73\n",
      "Accuracy for fold 4 is 0.74\n",
      "Avg Accuracy Across All Folds : 0.76\n"
     ]
    }
   ],
   "source": [
    "from sklearn.model_selection import KFold \n",
    "\n",
    "# Set up some folds\n",
    "k = 5\n",
    "kf = KFold(n_splits=k, random_state=False, shuffle=True)\n",
    "\n",
    "# Create A Model\n",
    "model = LogisticRegression(solver= 'liblinear')\n",
    " \n",
    "# Setup a List to accumulate stuff\n",
    "acc_score = []\n",
    "\n",
    "# Setup a Counter\n",
    "i = 0\n",
    " \n",
    "# We can loop across each of the five folds\n",
    "for train_index , test_index in kf.split(X):\n",
    "    \n",
    "    # Setup training on k-1 folds\n",
    "    X_train , X_test = X.iloc[train_index,:],X.iloc[test_index,:]\n",
    "    y_train , y_test = y[train_index] , y[test_index]\n",
    "     \n",
    "    # Fit the model\n",
    "    \n",
    "    model.fit(X_train,y_train)\n",
    "    pred_values = model.predict(X_test)\n",
    "    \n",
    "    # Accumulate the accuracies\n",
    "    acc = accuracy_score(pred_values , y_test)\n",
    "    acc_score.append(acc)\n",
    "    mystr = \"Accuracy for fold \" + str(i) + \" is \" + str(round(acc,2)) \n",
    "    print(mystr)\n",
    "    i = i + 1\n",
    "    \n",
    "# Get the averages\n",
    "avg_acc_score = sum(acc_score)/k\n",
    "\n",
    "# Print out some stuff\n",
    "print('Avg Accuracy Across All Folds : {}'.format(round(avg_acc_score,2)))"
   ]
  },
  {
   "cell_type": "markdown",
   "metadata": {},
   "source": [
    "An even more direct way to look at this is by pass the processing of individual folds and use the **cross_val_score** function which hides all the details and presents final results for consideration. "
   ]
  },
  {
   "cell_type": "code",
   "execution_count": 39,
   "metadata": {},
   "outputs": [
    {
     "name": "stdout",
     "output_type": "stream",
     "text": [
      "Avg accuracy: 0.76\n"
     ]
    }
   ],
   "source": [
    "from sklearn.model_selection import cross_val_score\n",
    "\n",
    "k = 5\n",
    "kf = KFold(n_splits=k, random_state=None)\n",
    "\n",
    "# Setup a Model\n",
    "model = LogisticRegression(solver= 'liblinear')\n",
    "\n",
    "# Get the results \n",
    "result = cross_val_score(model , X, y, cv = kf)\n",
    " \n",
    "print(\"Avg accuracy: {}\".format(round(result.mean(),2)))"
   ]
  },
  {
   "cell_type": "markdown",
   "metadata": {},
   "source": [
    "In this next example, we are using a different scoring method than just accuracy. "
   ]
  },
  {
   "cell_type": "code",
   "execution_count": 40,
   "metadata": {},
   "outputs": [
    {
     "data": {
      "text/plain": [
       "{'fit_time': array([0.010252  , 0.00523806, 0.00456715, 0.00472379, 0.00365901]),\n",
       " 'score_time': array([0.00362897, 0.00249386, 0.00256395, 0.00247335, 0.00193214]),\n",
       " 'test_prec_macro': array([0.74303907, 0.72903846, 0.75204918, 0.7964939 , 0.7527959 ]),\n",
       " 'train_prec_macro': array([0.77340163, 0.76140921, 0.77223756, 0.75451486, 0.78227455]),\n",
       " 'test_rec_macro': array([0.70851852, 0.72055556, 0.68222222, 0.75688679, 0.70471698]),\n",
       " 'train_rec_macro': array([0.72820093, 0.72537383, 0.73379673, 0.71369186, 0.74087209])}"
      ]
     },
     "execution_count": 40,
     "metadata": {},
     "output_type": "execute_result"
    }
   ],
   "source": [
    "from sklearn.metrics import recall_score\n",
    "from sklearn.metrics import make_scorer\n",
    "from sklearn.model_selection import cross_validate\n",
    "\n",
    "# So we create a dictionary with multiple macros\n",
    "# for assessing score\n",
    "scoring = {'prec_macro': 'precision_macro',\n",
    "           'rec_macro': make_scorer(recall_score, average='macro')}\n",
    "\n",
    "# Five Folds\n",
    "k = 5\n",
    "kf = KFold(n_splits=k, random_state=None)\n",
    "model = LogisticRegression(solver= 'liblinear')\n",
    "\n",
    "# Here we get the training information back\n",
    "result = cross_validate(model, X, y, scoring=scoring, return_train_score=True)\n",
    "\n",
    "# Look at what we get back\n",
    "result\n"
   ]
  },
  {
   "cell_type": "markdown",
   "metadata": {},
   "source": [
    "## Precision / Recall Curve\n",
    "\n",
    "Another approach to determining what might be the best threshold is to plot the precision and recall (also known as sensitivity) as a function of various thresholds. This gives us some idea as to where the sensitivity is the highest in relation to the precision (or vice versa). Ideally, one would like to have both high precesion and sensitivity (aka recall) though as with other performance measures, a compromise is typically involved. High sensitivity is valued when identifying serious diseases because when we say someone is positive for a disease we would very much like for that to be true. Even if we classify a few people as being positive who might not be (a type I error) it's better than identiyfing them as being negative when they really aren't (type II error). "
   ]
  },
  {
   "cell_type": "code",
   "execution_count": 41,
   "metadata": {},
   "outputs": [
    {
     "data": {
      "image/png": "[encoded data removed]",
      "text/plain": [
       "<Figure size 640x480 with 1 Axes>"
      ]
     },
     "metadata": {},
     "output_type": "display_data"
    }
   ],
   "source": [
    "# Predict y labels on the test data\n",
    "\n",
    "X_train,X_test,y_train,y_test = train_test_split(X_scaled,y,\n",
    "                                                 test_size=0.20,random_state=0)\n",
    "\n",
    "y_test_pred_labs =  logreg.predict(X_test)\n",
    "y_test_pred_probs = logreg.predict_proba(X_test)\n",
    "\n",
    "  # probs_y is a 2-D array of probability of being labeled as 0 (first \n",
    "\n",
    "from sklearn import metrics\n",
    "from sklearn.metrics import precision_recall_curve\n",
    "from sklearn.metrics import auc\n",
    "\n",
    "onezero_labs = np.where(y_test == \"neg\",0,1)\n",
    "\n",
    "precision, recall, thresholds = precision_recall_curve(onezero_labs, \n",
    "                                                       y_test_pred_probs[:,1]) \n",
    "\n",
    "# Retrieve probability of being 1(in second column of probs_y)\n",
    "pr_auc = metrics.auc(recall, precision)\n",
    "\n",
    "plt.title(\"Precision-Recall vs Threshold Chart\")\n",
    "plt.plot(thresholds, precision[: -1], \"b--\", label=\"Precision\")\n",
    "plt.plot(thresholds, recall[: -1], \"r--\", label=\"Recall\")\n",
    "plt.ylabel(\"Precision, Recall\")\n",
    "plt.xlabel(\"Threshold\")\n",
    "plt.legend(loc=\"lower left\")\n",
    "plt.ylim([0,1])\n",
    "plt.show()"
   ]
  },
  {
   "cell_type": "code",
   "execution_count": 42,
   "metadata": {},
   "outputs": [
    {
     "data": {
      "image/png": "[encoded data removed]",
      "text/plain": [
       "<Figure size 640x480 with 1 Axes>"
      ]
     },
     "metadata": {},
     "output_type": "display_data"
    }
   ],
   "source": [
    "no_skill = len(y_test[y_test==\"pos\"]) / len(y_test)\n",
    "plt.plot([0, 1], [no_skill, no_skill], linestyle='--', label='No Skill')\n",
    "plt.title(\"Precision vs Recall\")\n",
    "\n",
    "plt.plot(recall, precision, marker='.', label='Random Forest')\n",
    "# axis labels\n",
    "plt.xlabel('Recall')\n",
    "plt.ylabel('Precision')\n",
    "# show the legend\n",
    "plt.legend()\n",
    "# show the plot\n",
    "#plt.ylim([0,1])\n",
    "plt.show()"
   ]
  },
  {
   "cell_type": "code",
   "execution_count": 43,
   "metadata": {},
   "outputs": [],
   "source": [
    "precision, recall, thresholds  = precision_recall_curve(y_test, logreg.predict_proba(X_test)[:,1],pos_label=\"pos\")"
   ]
  },
  {
   "cell_type": "code",
   "execution_count": 54,
   "metadata": {},
   "outputs": [
    {
     "data": {
      "text/plain": [
       "1.0"
      ]
     },
     "execution_count": 54,
     "metadata": {},
     "output_type": "execute_result"
    }
   ],
   "source": [
    "recall[137]\n",
    "precision[137]"
   ]
  },
  {
   "cell_type": "raw",
   "metadata": {},
   "source": [
    "precision"
   ]
  },
  {
   "cell_type": "code",
   "execution_count": null,
   "metadata": {},
   "outputs": [],
   "source": []
  }
 ],
 "metadata": {
  "kernelspec": {
   "display_name": "Python 3 (ipykernel)",
   "language": "python",
   "name": "python3"
  },
  "language_info": {
   "codemirror_mode": {
    "name": "ipython",
    "version": 3
   },
   "file_extension": ".py",
   "mimetype": "text/x-python",
   "name": "python",
   "nbconvert_exporter": "python",
   "pygments_lexer": "ipython3",
   "version": "3.10.9"
  }
 },
 "nbformat": 4,
 "nbformat_minor": 4
}
